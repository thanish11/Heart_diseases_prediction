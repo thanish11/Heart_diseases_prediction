{
  "cells": [
    {
      "cell_type": "code",
      "execution_count": null,
      "metadata": {
        "id": "RWbIYMg4HKhO"
      },
      "outputs": [],
      "source": []
    },
    {
      "cell_type": "markdown",
      "metadata": {
        "id": "Rrv1u4PjHLKs"
      },
      "source": [
        "Only 14 attributes used:\n",
        "      1. #3  (age)       \n",
        "      2. #4  (sex)       \n",
        "      3. #9  (cp)        \n",
        "      4. #10 (trestbps)  \n",
        "      5. #12 (chol)      \n",
        "      6. #16 (fbs)       \n",
        "      7. #19 (restecg)   \n",
        "      8. #32 (thalach)   \n",
        "      9. #38 (exang)     \n",
        "      10. #40 (oldpeak)   \n",
        "      11. #41 (slope)     \n",
        "      12. #44 (ca)        \n",
        "      13. #51 (thal)      \n",
        "      14. #58 (num)       (the predicted attribute)\n",
        "\n",
        "Complete attribute documentation:\n",
        "      1 id: patient identification number\n",
        "      2 ccf: social security number (I replaced this with a dummy value of 0)\n",
        "      3 age: age in years\n",
        "      4 sex: sex (1 = male; 0 = female)\n",
        "      5 painloc: chest pain location (1 = substernal; 0 = otherwise)\n",
        "      6 painexer (1 = provoked by exertion; 0 = otherwise)\n",
        "      7 relrest (1 = relieved after rest; 0 = otherwise)\n",
        "      8 pncaden (sum of 5, 6, and 7)\n",
        "      9 cp: chest pain type\n",
        "        -- Value 1: typical angina\n",
        "        -- Value 2: atypical angina\n",
        "        -- Value 3: non-anginal pain\n",
        "        -- Value 4: asymptomatic\n",
        "     10 trestbps: resting blood pressure (in mm Hg on admission to the hospital)\n",
        "     11 htn\n",
        "     12 chol: serum cholestoral in mg/dl\n",
        "     13 smoke: I believe this is 1 = yes; 0 = no (is or is not a smoker)\n",
        "     14 cigs (cigarettes per day)\n",
        "     15 years (number of years as a smoker)\n",
        "     16 fbs: (fasting blood sugar > 120 mg/dl)  (1 = true; 0 = false)\n",
        "     17 dm (1 = history of diabetes; 0 = no such history)\n",
        "     18 famhist: family history of coronary artery disease (1 = yes; 0 = no)\n",
        "     19 restecg: resting electrocardiographic results\n",
        "        -- Value 0: normal\n",
        "        -- Value 1: having ST-T wave abnormality (T wave inversions and/or ST elevation or depression of > 0.05 mV)\n",
        "        -- Value 2: showing probable or definite left ventricular hypertrophy by Estes' criteria\n",
        "     20 ekgmo (month of exercise ECG reading)\n",
        "     21 ekgday(day of exercise ECG reading)\n",
        "     22 ekgyr (year of exercise ECG reading)\n",
        "     23 dig (digitalis used furing exercise ECG: 1 = yes; 0 = no)\n",
        "     24 prop (Beta blocker used during exercise ECG: 1 = yes; 0 = no)\n",
        "     25 nitr (nitrates used during exercise ECG: 1 = yes; 0 = no)\n",
        "     26 pro (calcium channel blocker used during exercise ECG: 1 = yes; 0 = no)\n",
        "     27 diuretic (diuretic used used during exercise ECG: 1 = yes; 0 = no)\n",
        "     28 proto: exercise protocol\n",
        "          1 = Bruce     \n",
        "          2 = Kottus\n",
        "          3 = McHenry\n",
        "          4 = fast Balke\n",
        "          5 = Balke\n",
        "          6 = Noughton\n",
        "          7 = bike 150 kpa min/min  (Not sure if \"kpa min/min\" is what was written!)\n",
        "          8 = bike 125 kpa min/min  \n",
        "          9 = bike 100 kpa min/min\n",
        "         10 = bike 75 kpa min/min\n",
        "         11 = bike 50 kpa min/min\n",
        "         12 = arm ergometer\n",
        "     29 thaldur: duration of exercise test in minutes\n",
        "     30 thaltime: time when ST measure depression was noted\n",
        "     31 met: mets achieved\n",
        "     32 thalach: maximum heart rate achieved\n",
        "     33 thalrest: resting heart rate\n",
        "     34 tpeakbps: peak exercise blood pressure (first of 2 parts)\n",
        "     35 tpeakbpd: peak exercise blood pressure (second of 2 parts)\n",
        "     36 dummy\n",
        "     37 trestbpd: resting blood pressure\n",
        "     38 exang: exercise induced angina (1 = yes; 0 = no)\n",
        "     39 xhypo: (1 = yes; 0 = no)\n",
        "     40 oldpeak = ST depression induced by exercise relative to rest\n",
        "     41 slope: the slope of the peak exercise ST segment\n",
        "        -- Value 1: upsloping\n",
        "        -- Value 2: flat\n",
        "        -- Value 3: downsloping\n",
        "     42 rldv5: height at rest\n",
        "     43 rldv5e: height at peak exercise\n",
        "     44 ca: number of major vessels (0-3) colored by flourosopy\n",
        "     45 restckm: irrelevant\n",
        "     46 exerckm: irrelevant\n",
        "     47 restef: rest raidonuclid (sp?) ejection fraction\n",
        "     48 restwm: rest wall (sp?) motion abnormality\n",
        "        0 = none\n",
        "        1 = mild or moderate\n",
        "        2 = moderate or severe\n",
        "        3 = akinesis or dyskmem (sp?)\n",
        "     49 exeref: exercise radinalid (sp?) ejection fraction\n",
        "     50 exerwm: exercise wall (sp?) motion\n",
        "     51 thal: 3 = normal; 6 = fixed defect; 7 = reversable defect\n",
        "     52 thalsev: not used\n",
        "     53 thalpul: not used\n",
        "     54 earlobe: not used\n",
        "     55 cmo: month of cardiac cath (sp?)  (perhaps \"call\")\n",
        "     56 cday: day of cardiac cath (sp?)\n",
        "     57 cyr: year of cardiac cath (sp?)\n",
        "     58 num: diagnosis of heart disease (angiographic disease status)\n",
        "        -- Value 0: < 50% diameter narrowing\n",
        "        -- Value 1: > 50% diameter narrowing\n",
        "        (in any major vessel: attributes 59 through 68 are vessels)\n",
        "     59 lmt\n",
        "     60 ladprox\n",
        "     61 laddist\n",
        "     62 diag\n",
        "     63 cxmain\n",
        "     64 ramus\n",
        "     65 om1\n",
        "     66 om2\n",
        "     67 rcaprox\n",
        "     68 rcadist\n",
        "     69 lvx1: not used\n",
        "     70 lvx2: not used\n",
        "     71 lvx3: not used\n",
        "     72 lvx4: not used\n",
        "     73 lvf: not used\n",
        "     74 cathef: not used\n",
        "     75 junk: not used\n",
        "     76 name: last name of patient  (I replaced this with the dummy string \"name\")\n",
        "\n",
        "Baseline Mode"
      ]
    },
    {
      "cell_type": "code",
      "execution_count": 7,
      "metadata": {},
      "outputs": [
        {
          "name": "stdout",
          "output_type": "stream",
          "text": [
            "Note: you may need to restart the kernel to use updated packages.Requirement already satisfied: plotly in d:\\data_science\\healthcare_project\\heart_diseases_prediction\\venv\\lib\\site-packages (5.22.0)\n",
            "Requirement already satisfied: tenacity>=6.2.0 in d:\\data_science\\healthcare_project\\heart_diseases_prediction\\venv\\lib\\site-packages (from plotly) (8.5.0)\n",
            "Requirement already satisfied: packaging in d:\\data_science\\healthcare_project\\heart_diseases_prediction\\venv\\lib\\site-packages (from plotly) (24.1)\n",
            "\n"
          ]
        }
      ],
      "source": [
        "pip install plotly"
      ]
    },
    {
      "cell_type": "code",
      "execution_count": 1,
      "metadata": {
        "id": "1oODxEk5HcV_"
      },
      "outputs": [],
      "source": [
        "import numpy as np\n",
        "import pandas as pd\n",
        "import matplotlib.pyplot as plt\n",
        "import seaborn as sns\n",
        "import plotly.express as px\n",
        "import pickle"
      ]
    },
    {
      "cell_type": "code",
      "execution_count": 2,
      "metadata": {
        "id": "R_92SNTtIUAO"
      },
      "outputs": [],
      "source": [
        "from sklearn.model_selection import train_test_split, GridSearchCV, cross_val_predict, cross_val_score\n",
        "from sklearn.preprocessing import StandardScaler, LabelEncoder, MinMaxScaler, OneHotEncoder"
      ]
    },
    {
      "cell_type": "code",
      "execution_count": 3,
      "metadata": {
        "id": "sNDL2WOJIw5A"
      },
      "outputs": [],
      "source": [
        "from sklearn.linear_model import LogisticRegression\n",
        "from sklearn.svm import SVC\n",
        "from sklearn.ensemble import RandomForestClassifier, AdaBoostClassifier, GradientBoostingClassifier, VotingClassifier\n",
        "from sklearn.neighbors import KNeighborsClassifier\n",
        "from sklearn.tree import DecisionTreeClassifier\n",
        "#from xgboost import XGBClassifier\n",
        "from sklearn.naive_bayes import GaussianNB\n"
      ]
    },
    {
      "cell_type": "code",
      "execution_count": 4,
      "metadata": {
        "id": "L7aspIPNM0gS"
      },
      "outputs": [],
      "source": [
        "# for classification evaloution matrix\n",
        "from sklearn.metrics import accuracy_score,classification_report,confusion_matrix,mean_absolute_error,precision_score,mean_squared_error,r2_score,roc_auc_score"
      ]
    },
    {
      "cell_type": "code",
      "execution_count": 5,
      "metadata": {
        "colab": {
          "base_uri": "https://localhost:8080/",
          "height": 223
        },
        "id": "hbmYW7cDM_UW",
        "outputId": "1b6ea634-d954-46ec-bcdb-241faed3db5c"
      },
      "outputs": [
        {
          "data": {
            "text/html": [
              "<div>\n",
              "<style scoped>\n",
              "    .dataframe tbody tr th:only-of-type {\n",
              "        vertical-align: middle;\n",
              "    }\n",
              "\n",
              "    .dataframe tbody tr th {\n",
              "        vertical-align: top;\n",
              "    }\n",
              "\n",
              "    .dataframe thead th {\n",
              "        text-align: right;\n",
              "    }\n",
              "</style>\n",
              "<table border=\"1\" class=\"dataframe\">\n",
              "  <thead>\n",
              "    <tr style=\"text-align: right;\">\n",
              "      <th></th>\n",
              "      <th>Age</th>\n",
              "      <th>Sex</th>\n",
              "      <th>Chest pain type</th>\n",
              "      <th>BP</th>\n",
              "      <th>Cholesterol</th>\n",
              "      <th>FBS over 120</th>\n",
              "      <th>EKG results</th>\n",
              "      <th>Max HR</th>\n",
              "      <th>Exercise angina</th>\n",
              "      <th>ST depression</th>\n",
              "      <th>Slope of ST</th>\n",
              "      <th>Number of vessels fluro</th>\n",
              "      <th>Thallium</th>\n",
              "      <th>Heart Disease</th>\n",
              "    </tr>\n",
              "  </thead>\n",
              "  <tbody>\n",
              "    <tr>\n",
              "      <th>0</th>\n",
              "      <td>70</td>\n",
              "      <td>1</td>\n",
              "      <td>4</td>\n",
              "      <td>130</td>\n",
              "      <td>322</td>\n",
              "      <td>0</td>\n",
              "      <td>2</td>\n",
              "      <td>109</td>\n",
              "      <td>0</td>\n",
              "      <td>2.4</td>\n",
              "      <td>2</td>\n",
              "      <td>3</td>\n",
              "      <td>3</td>\n",
              "      <td>Presence</td>\n",
              "    </tr>\n",
              "    <tr>\n",
              "      <th>1</th>\n",
              "      <td>67</td>\n",
              "      <td>0</td>\n",
              "      <td>3</td>\n",
              "      <td>115</td>\n",
              "      <td>564</td>\n",
              "      <td>0</td>\n",
              "      <td>2</td>\n",
              "      <td>160</td>\n",
              "      <td>0</td>\n",
              "      <td>1.6</td>\n",
              "      <td>2</td>\n",
              "      <td>0</td>\n",
              "      <td>7</td>\n",
              "      <td>Absence</td>\n",
              "    </tr>\n",
              "    <tr>\n",
              "      <th>2</th>\n",
              "      <td>57</td>\n",
              "      <td>1</td>\n",
              "      <td>2</td>\n",
              "      <td>124</td>\n",
              "      <td>261</td>\n",
              "      <td>0</td>\n",
              "      <td>0</td>\n",
              "      <td>141</td>\n",
              "      <td>0</td>\n",
              "      <td>0.3</td>\n",
              "      <td>1</td>\n",
              "      <td>0</td>\n",
              "      <td>7</td>\n",
              "      <td>Presence</td>\n",
              "    </tr>\n",
              "    <tr>\n",
              "      <th>3</th>\n",
              "      <td>64</td>\n",
              "      <td>1</td>\n",
              "      <td>4</td>\n",
              "      <td>128</td>\n",
              "      <td>263</td>\n",
              "      <td>0</td>\n",
              "      <td>0</td>\n",
              "      <td>105</td>\n",
              "      <td>1</td>\n",
              "      <td>0.2</td>\n",
              "      <td>2</td>\n",
              "      <td>1</td>\n",
              "      <td>7</td>\n",
              "      <td>Absence</td>\n",
              "    </tr>\n",
              "    <tr>\n",
              "      <th>4</th>\n",
              "      <td>74</td>\n",
              "      <td>0</td>\n",
              "      <td>2</td>\n",
              "      <td>120</td>\n",
              "      <td>269</td>\n",
              "      <td>0</td>\n",
              "      <td>2</td>\n",
              "      <td>121</td>\n",
              "      <td>1</td>\n",
              "      <td>0.2</td>\n",
              "      <td>1</td>\n",
              "      <td>1</td>\n",
              "      <td>3</td>\n",
              "      <td>Absence</td>\n",
              "    </tr>\n",
              "  </tbody>\n",
              "</table>\n",
              "</div>"
            ],
            "text/plain": [
              "   Age  Sex  Chest pain type   BP  Cholesterol  FBS over 120  EKG results  \\\n",
              "0   70    1                4  130          322             0            2   \n",
              "1   67    0                3  115          564             0            2   \n",
              "2   57    1                2  124          261             0            0   \n",
              "3   64    1                4  128          263             0            0   \n",
              "4   74    0                2  120          269             0            2   \n",
              "\n",
              "   Max HR  Exercise angina  ST depression  Slope of ST  \\\n",
              "0     109                0            2.4            2   \n",
              "1     160                0            1.6            2   \n",
              "2     141                0            0.3            1   \n",
              "3     105                1            0.2            2   \n",
              "4     121                1            0.2            1   \n",
              "\n",
              "   Number of vessels fluro  Thallium Heart Disease  \n",
              "0                        3         3      Presence  \n",
              "1                        0         7       Absence  \n",
              "2                        0         7      Presence  \n",
              "3                        1         7       Absence  \n",
              "4                        1         3       Absence  "
            ]
          },
          "execution_count": 5,
          "metadata": {},
          "output_type": "execute_result"
        }
      ],
      "source": [
        "data = pd.read_csv(\"Heart_Disease_Prediction.csv\")\n",
        "data.head()"
      ]
    },
    {
      "cell_type": "code",
      "execution_count": 14,
      "metadata": {},
      "outputs": [
        {
          "data": {
            "text/plain": [
              "(270, 14)"
            ]
          },
          "execution_count": 14,
          "metadata": {},
          "output_type": "execute_result"
        }
      ],
      "source": [
        "data.shape"
      ]
    },
    {
      "cell_type": "code",
      "execution_count": 15,
      "metadata": {
        "colab": {
          "base_uri": "https://localhost:8080/"
        },
        "id": "aTPwwmgANpPD",
        "outputId": "7fb71588-4f05-44b9-d822-eb57f261e993"
      },
      "outputs": [
        {
          "data": {
            "text/plain": [
              "Index(['Age', 'Sex', 'Chest pain type', 'BP', 'Cholesterol', 'FBS over 120',\n",
              "       'EKG results', 'Max HR', 'Exercise angina', 'ST depression',\n",
              "       'Slope of ST', 'Number of vessels fluro', 'Thallium', 'Heart Disease'],\n",
              "      dtype='object')"
            ]
          },
          "execution_count": 15,
          "metadata": {},
          "output_type": "execute_result"
        }
      ],
      "source": [
        "data.columns"
      ]
    },
    {
      "cell_type": "code",
      "execution_count": 16,
      "metadata": {
        "colab": {
          "base_uri": "https://localhost:8080/"
        },
        "id": "Ds6ujqnFNu1Y",
        "outputId": "c5bbc090-7c0a-4de8-fd28-e6de06566878"
      },
      "outputs": [
        {
          "name": "stdout",
          "output_type": "stream",
          "text": [
            "<class 'pandas.core.frame.DataFrame'>\n",
            "RangeIndex: 270 entries, 0 to 269\n",
            "Data columns (total 14 columns):\n",
            " #   Column                   Non-Null Count  Dtype  \n",
            "---  ------                   --------------  -----  \n",
            " 0   Age                      270 non-null    int64  \n",
            " 1   Sex                      270 non-null    int64  \n",
            " 2   Chest pain type          270 non-null    int64  \n",
            " 3   BP                       270 non-null    int64  \n",
            " 4   Cholesterol              270 non-null    int64  \n",
            " 5   FBS over 120             270 non-null    int64  \n",
            " 6   EKG results              270 non-null    int64  \n",
            " 7   Max HR                   270 non-null    int64  \n",
            " 8   Exercise angina          270 non-null    int64  \n",
            " 9   ST depression            270 non-null    float64\n",
            " 10  Slope of ST              270 non-null    int64  \n",
            " 11  Number of vessels fluro  270 non-null    int64  \n",
            " 12  Thallium                 270 non-null    int64  \n",
            " 13  Heart Disease            270 non-null    object \n",
            "dtypes: float64(1), int64(12), object(1)\n",
            "memory usage: 29.7+ KB\n"
          ]
        }
      ],
      "source": [
        "data.info()"
      ]
    },
    {
      "cell_type": "code",
      "execution_count": 17,
      "metadata": {
        "colab": {
          "base_uri": "https://localhost:8080/"
        },
        "id": "tji7Tj9wO6l_",
        "outputId": "a1004086-36a3-4199-9025-d0341adb9067"
      },
      "outputs": [
        {
          "data": {
            "text/plain": [
              "Age                        0\n",
              "Sex                        0\n",
              "Chest pain type            0\n",
              "BP                         0\n",
              "Cholesterol                0\n",
              "FBS over 120               0\n",
              "EKG results                0\n",
              "Max HR                     0\n",
              "Exercise angina            0\n",
              "ST depression              0\n",
              "Slope of ST                0\n",
              "Number of vessels fluro    0\n",
              "Thallium                   0\n",
              "Heart Disease              0\n",
              "dtype: int64"
            ]
          },
          "execution_count": 17,
          "metadata": {},
          "output_type": "execute_result"
        }
      ],
      "source": [
        "data.isnull().sum()"
      ]
    },
    {
      "cell_type": "code",
      "execution_count": 18,
      "metadata": {
        "colab": {
          "base_uri": "https://localhost:8080/"
        },
        "id": "VJyA1RoLO89O",
        "outputId": "e3db7c8c-0140-4b1a-8e66-b5307be783d8"
      },
      "outputs": [
        {
          "data": {
            "text/plain": [
              "(270, 14)"
            ]
          },
          "execution_count": 18,
          "metadata": {},
          "output_type": "execute_result"
        }
      ],
      "source": [
        "data.shape"
      ]
    },
    {
      "cell_type": "code",
      "execution_count": 19,
      "metadata": {
        "colab": {
          "base_uri": "https://localhost:8080/",
          "height": 772
        },
        "id": "NsaiT-qcXQc7",
        "outputId": "cfc5d0cf-7f72-4748-ab75-d4f4e2266f0b"
      },
      "outputs": [
        {
          "data": {
            "text/plain": [
              "<matplotlib.lines.Line2D at 0x203f30c1fa0>"
            ]
          },
          "execution_count": 19,
          "metadata": {},
          "output_type": "execute_result"
        },
        {
          "data": {
            "image/png": "[encoded data removed]",
            "text/plain": [
              "<Figure size 1600x900 with 1 Axes>"
            ]
          },
          "metadata": {},
          "output_type": "display_data"
        }
      ],
      "source": [
        "plt.figure(figsize=(16, 9))\n",
        "sns.histplot(data['Age'], kde= True)\n",
        "plt.axvline(data['Age'].mean(), color='r')"
      ]
    },
    {
      "cell_type": "code",
      "execution_count": 20,
      "metadata": {
        "colab": {
          "base_uri": "https://localhost:8080/"
        },
        "id": "mor3zy6-Xt6N",
        "outputId": "407934b6-a139-402f-b3ac-651f4ee67cc5"
      },
      "outputs": [
        {
          "data": {
            "text/plain": [
              "np.float64(54.43333333333333)"
            ]
          },
          "execution_count": 20,
          "metadata": {},
          "output_type": "execute_result"
        }
      ],
      "source": [
        "data['Age'].mean()"
      ]
    },
    {
      "cell_type": "code",
      "execution_count": 21,
      "metadata": {
        "colab": {
          "base_uri": "https://localhost:8080/"
        },
        "id": "M9g1O5eKYGd_",
        "outputId": "0224b51a-d32a-40aa-d582-8ce169f66aa1"
      },
      "outputs": [
        {
          "name": "stdout",
          "output_type": "stream",
          "text": [
            "1 : Male, 0 : Female\n"
          ]
        },
        {
          "data": {
            "text/plain": [
              "Sex\n",
              "1    183\n",
              "0     87\n",
              "Name: count, dtype: int64"
            ]
          },
          "execution_count": 21,
          "metadata": {},
          "output_type": "execute_result"
        }
      ],
      "source": [
        "print(\"1 : Male, 0 : Female\")\n",
        "data['Sex'].value_counts()"
      ]
    },
    {
      "cell_type": "code",
      "execution_count": 22,
      "metadata": {
        "colab": {
          "base_uri": "https://localhost:8080/"
        },
        "id": "I6IBPwZPYg2F",
        "outputId": "a23d00fe-39f8-4aba-c141-13602991a41a"
      },
      "outputs": [
        {
          "name": "stdout",
          "output_type": "stream",
          "text": [
            "Male Percentage in data: 67.78%\n",
            "Female Percentage in data: 32.22%\n",
            "Males are 110.34% more than females in the data.\n"
          ]
        }
      ],
      "source": [
        "# calculate percentage of male and female in sex column\n",
        "male = data['Sex'].value_counts()[1]\n",
        "female = data['Sex'].value_counts()[0]\n",
        "total = male + female\n",
        "\n",
        "# calculate percentage\n",
        "male_percentage = (male/total) * 100\n",
        "female_percentage = (female/total) * 100\n",
        "\n",
        "# print the result\n",
        "print(f\"Male Percentage in data: {male_percentage:.2f}%\")\n",
        "print(f\"Female Percentage in data: {female_percentage:.2f}%\")\n",
        "\n",
        "# difference\n",
        "difference_peercentage = ((male - female)/ female) * 100\n",
        "print(f\"Males are {difference_peercentage:.2f}% more than females in the data.\")"
      ]
    },
    {
      "cell_type": "code",
      "execution_count": 13,
      "metadata": {
        "colab": {
          "base_uri": "https://localhost:8080/",
          "height": 752
        },
        "id": "UJtbZ5sEvwWn",
        "outputId": "3f18c133-a992-439c-e452-235bd9ff2d3e"
      },
      "outputs": [
        {
          "data": {
            "image/png": "[encoded data removed]",
            "text/plain": [
              "<Figure size 1152x648 with 1 Axes>"
            ]
          },
          "metadata": {},
          "output_type": "display_data"
        }
      ],
      "source": [
        "# Pie chart\n",
        "labels = ['Male', 'Female']\n",
        "sizes = [male_percentage, female_percentage]\n",
        "colors = ['blue','MediumSlateBlue']\n",
        "\n",
        "fig1, ax1 = plt.subplots(figsize=(16, 9))\n",
        "ax1.pie(sizes, colors=colors, labels=labels, autopct='%1.1f%%', startangle=90)\n",
        "ax1.axis('equal')  # Equal aspect ratio ensures that pie is drawn as a circle.\n",
        "\n",
        "plt.title('Distribution of sex in Dataset')\n",
        "plt.show()"
      ]
    },
    {
      "cell_type": "code",
      "execution_count": 14,
      "metadata": {
        "colab": {
          "base_uri": "https://localhost:8080/"
        },
        "id": "ag5uqmy-0R9I",
        "outputId": "97eb1fb4-931b-4590-92c1-30e4fb982f59"
      },
      "outputs": [
        {
          "data": {
            "text/plain": [
              "Index(['Age', 'Sex', 'Chest pain type', 'BP', 'Cholesterol', 'FBS over 120',\n",
              "       'EKG results', 'Max HR', 'Exercise angina', 'ST depression',\n",
              "       'Slope of ST', 'Number of vessels fluro', 'Thallium', 'Heart Disease'],\n",
              "      dtype='object')"
            ]
          },
          "execution_count": 14,
          "metadata": {},
          "output_type": "execute_result"
        }
      ],
      "source": [
        "data.columns"
      ]
    },
    {
      "cell_type": "code",
      "execution_count": 15,
      "metadata": {
        "colab": {
          "base_uri": "https://localhost:8080/"
        },
        "id": "HF1K0MoY00X5",
        "outputId": "9e455312-7bdb-4c12-a04a-535fc180a3db"
      },
      "outputs": [
        {
          "name": "stdout",
          "output_type": "stream",
          "text": [
            "1: Typical angina,\n",
            "2: Atypical angina,\n",
            "3: Non-anginal pain,\n",
            "4: Asymptomatic\n"
          ]
        },
        {
          "data": {
            "text/plain": [
              "4    129\n",
              "3     79\n",
              "2     42\n",
              "1     20\n",
              "Name: Chest pain type, dtype: int64"
            ]
          },
          "execution_count": 15,
          "metadata": {},
          "output_type": "execute_result"
        }
      ],
      "source": [
        "print('''1: Typical angina,\n",
        "2: Atypical angina,\n",
        "3: Non-anginal pain,\n",
        "4: Asymptomatic''')\n",
        "data['Chest pain type'].value_counts()"
      ]
    },
    {
      "cell_type": "code",
      "execution_count": 16,
      "metadata": {
        "colab": {
          "base_uri": "https://localhost:8080/",
          "height": 542
        },
        "id": "UUNoiF8C07Rz",
        "outputId": "b7239a45-d321-46c5-d408-7fe0f8bf7b56"
      },
      "outputs": [
        {
          "data": {
            "application/vnd.plotly.v1+json": {
              "config": {
                "plotlyServerURL": "https://plot.ly"
              },
              "data": [
                {
                  "alignmentgroup": "True",
                  "bingroup": "x",
                  "hovertemplate": "Chest pain type=4<br>Age=%{x}<br>count=%{y}<extra></extra>",
                  "legendgroup": "4",
                  "marker": {
                    "color": "#636efa",
                    "pattern": {
                      "shape": ""
                    }
                  },
                  "name": "4",
                  "offsetgroup": "4",
                  "orientation": "v",
                  "showlegend": true,
                  "type": "histogram",
                  "x": [
                    70,
                    64,
                    65,
                    59,
                    60,
                    63,
                    59,
                    53,
                    57,
                    71,
                    46,
                    53,
                    67,
                    43,
                    47,
                    46,
                    66,
                    59,
                    50,
                    48,
                    61,
                    48,
                    40,
                    62,
                    44,
                    65,
                    42,
                    61,
                    59,
                    51,
                    57,
                    51,
                    61,
                    57,
                    67,
                    45,
                    45,
                    58,
                    35,
                    58,
                    57,
                    50,
                    61,
                    54,
                    54,
                    52,
                    47,
                    66,
                    58,
                    67,
                    49,
                    57,
                    63,
                    48,
                    60,
                    59,
                    55,
                    60,
                    46,
                    56,
                    56,
                    54,
                    57,
                    62,
                    60,
                    63,
                    66,
                    42,
                    64,
                    56,
                    57,
                    64,
                    59,
                    53,
                    52,
                    40,
                    64,
                    55,
                    66,
                    62,
                    58,
                    43,
                    64,
                    50,
                    45,
                    67,
                    62,
                    51,
                    67,
                    56,
                    41,
                    42,
                    56,
                    52,
                    62,
                    54,
                    70,
                    35,
                    58,
                    77,
                    58,
                    60,
                    51,
                    55,
                    58,
                    54,
                    65,
                    63,
                    35,
                    43,
                    61,
                    39,
                    45,
                    52,
                    62,
                    53,
                    43,
                    53,
                    62,
                    60,
                    65,
                    60,
                    54,
                    44,
                    55,
                    43,
                    60,
                    57,
                    67
                  ],
                  "xaxis": "x",
                  "yaxis": "y"
                },
                {
                  "alignmentgroup": "True",
                  "bingroup": "x",
                  "hovertemplate": "Chest pain type=3<br>Age=%{x}<br>count=%{y}<extra></extra>",
                  "legendgroup": "3",
                  "marker": {
                    "color": "#EF553B",
                    "pattern": {
                      "shape": ""
                    }
                  },
                  "name": "3",
                  "offsetgroup": "3",
                  "orientation": "v",
                  "showlegend": true,
                  "type": "histogram",
                  "x": [
                    67,
                    56,
                    44,
                    48,
                    51,
                    58,
                    71,
                    57,
                    37,
                    42,
                    44,
                    59,
                    58,
                    49,
                    65,
                    60,
                    57,
                    44,
                    44,
                    47,
                    76,
                    39,
                    42,
                    41,
                    64,
                    44,
                    51,
                    54,
                    49,
                    65,
                    54,
                    54,
                    52,
                    54,
                    46,
                    67,
                    50,
                    58,
                    41,
                    41,
                    50,
                    54,
                    51,
                    53,
                    69,
                    68,
                    46,
                    50,
                    42,
                    53,
                    43,
                    70,
                    48,
                    54,
                    68,
                    60,
                    58,
                    64,
                    37,
                    51,
                    43,
                    63,
                    51,
                    54,
                    57,
                    62,
                    62,
                    47,
                    68,
                    39,
                    51,
                    65,
                    60,
                    51,
                    59,
                    61,
                    64,
                    58,
                    52
                  ],
                  "xaxis": "x",
                  "yaxis": "y"
                },
                {
                  "alignmentgroup": "True",
                  "bingroup": "x",
                  "hovertemplate": "Chest pain type=2<br>Age=%{x}<br>count=%{y}<extra></extra>",
                  "legendgroup": "2",
                  "marker": {
                    "color": "#00cc96",
                    "pattern": {
                      "shape": ""
                    }
                  },
                  "name": "2",
                  "offsetgroup": "2",
                  "orientation": "v",
                  "showlegend": true,
                  "type": "histogram",
                  "x": [
                    57,
                    74,
                    48,
                    54,
                    46,
                    66,
                    52,
                    63,
                    45,
                    41,
                    62,
                    58,
                    70,
                    56,
                    62,
                    41,
                    59,
                    50,
                    45,
                    41,
                    42,
                    49,
                    52,
                    34,
                    54,
                    46,
                    45,
                    55,
                    54,
                    55,
                    29,
                    41,
                    44,
                    41,
                    52,
                    44,
                    71,
                    58,
                    49,
                    48,
                    44,
                    56
                  ],
                  "xaxis": "x",
                  "yaxis": "y"
                },
                {
                  "alignmentgroup": "True",
                  "bingroup": "x",
                  "hovertemplate": "Chest pain type=1<br>Age=%{x}<br>count=%{y}<extra></extra>",
                  "legendgroup": "1",
                  "marker": {
                    "color": "#ab63fa",
                    "pattern": {
                      "shape": ""
                    }
                  },
                  "name": "1",
                  "offsetgroup": "1",
                  "orientation": "v",
                  "showlegend": true,
                  "type": "histogram",
                  "x": [
                    61,
                    64,
                    40,
                    59,
                    60,
                    63,
                    42,
                    59,
                    66,
                    51,
                    56,
                    38,
                    65,
                    69,
                    34,
                    69,
                    52,
                    59,
                    58,
                    52
                  ],
                  "xaxis": "x",
                  "yaxis": "y"
                }
              ],
              "layout": {
                "barmode": "relative",
                "legend": {
                  "title": {
                    "text": "Chest pain type"
                  },
                  "tracegroupgap": 0
                },
                "margin": {
                  "t": 60
                },
                "template": {
                  "data": {
                    "bar": [
                      {
                        "error_x": {
                          "color": "#2a3f5f"
                        },
                        "error_y": {
                          "color": "#2a3f5f"
                        },
                        "marker": {
                          "line": {
                            "color": "#E5ECF6",
                            "width": 0.5
                          },
                          "pattern": {
                            "fillmode": "overlay",
                            "size": 10,
                            "solidity": 0.2
                          }
                        },
                        "type": "bar"
                      }
                    ],
                    "barpolar": [
                      {
                        "marker": {
                          "line": {
                            "color": "#E5ECF6",
                            "width": 0.5
                          },
                          "pattern": {
                            "fillmode": "overlay",
                            "size": 10,
                            "solidity": 0.2
                          }
                        },
                        "type": "barpolar"
                      }
                    ],
                    "carpet": [
                      {
                        "aaxis": {
                          "endlinecolor": "#2a3f5f",
                          "gridcolor": "white",
                          "linecolor": "white",
                          "minorgridcolor": "white",
                          "startlinecolor": "#2a3f5f"
                        },
                        "baxis": {
                          "endlinecolor": "#2a3f5f",
                          "gridcolor": "white",
                          "linecolor": "white",
                          "minorgridcolor": "white",
                          "startlinecolor": "#2a3f5f"
                        },
                        "type": "carpet"
                      }
                    ],
                    "choropleth": [
                      {
                        "colorbar": {
                          "outlinewidth": 0,
                          "ticks": ""
                        },
                        "type": "choropleth"
                      }
                    ],
                    "contour": [
                      {
                        "colorbar": {
                          "outlinewidth": 0,
                          "ticks": ""
                        },
                        "colorscale": [
                          [
                            0,
                            "#0d0887"
                          ],
                          [
                            0.1111111111111111,
                            "#46039f"
                          ],
                          [
                            0.2222222222222222,
                            "#7201a8"
                          ],
                          [
                            0.3333333333333333,
                            "#9c179e"
                          ],
                          [
                            0.4444444444444444,
                            "#bd3786"
                          ],
                          [
                            0.5555555555555556,
                            "#d8576b"
                          ],
                          [
                            0.6666666666666666,
                            "#ed7953"
                          ],
                          [
                            0.7777777777777778,
                            "#fb9f3a"
                          ],
                          [
                            0.8888888888888888,
                            "#fdca26"
                          ],
                          [
                            1,
                            "#f0f921"
                          ]
                        ],
                        "type": "contour"
                      }
                    ],
                    "contourcarpet": [
                      {
                        "colorbar": {
                          "outlinewidth": 0,
                          "ticks": ""
                        },
                        "type": "contourcarpet"
                      }
                    ],
                    "heatmap": [
                      {
                        "colorbar": {
                          "outlinewidth": 0,
                          "ticks": ""
                        },
                        "colorscale": [
                          [
                            0,
                            "#0d0887"
                          ],
                          [
                            0.1111111111111111,
                            "#46039f"
                          ],
                          [
                            0.2222222222222222,
                            "#7201a8"
                          ],
                          [
                            0.3333333333333333,
                            "#9c179e"
                          ],
                          [
                            0.4444444444444444,
                            "#bd3786"
                          ],
                          [
                            0.5555555555555556,
                            "#d8576b"
                          ],
                          [
                            0.6666666666666666,
                            "#ed7953"
                          ],
                          [
                            0.7777777777777778,
                            "#fb9f3a"
                          ],
                          [
                            0.8888888888888888,
                            "#fdca26"
                          ],
                          [
                            1,
                            "#f0f921"
                          ]
                        ],
                        "type": "heatmap"
                      }
                    ],
                    "heatmapgl": [
                      {
                        "colorbar": {
                          "outlinewidth": 0,
                          "ticks": ""
                        },
                        "colorscale": [
                          [
                            0,
                            "#0d0887"
                          ],
                          [
                            0.1111111111111111,
                            "#46039f"
                          ],
                          [
                            0.2222222222222222,
                            "#7201a8"
                          ],
                          [
                            0.3333333333333333,
                            "#9c179e"
                          ],
                          [
                            0.4444444444444444,
                            "#bd3786"
                          ],
                          [
                            0.5555555555555556,
                            "#d8576b"
                          ],
                          [
                            0.6666666666666666,
                            "#ed7953"
                          ],
                          [
                            0.7777777777777778,
                            "#fb9f3a"
                          ],
                          [
                            0.8888888888888888,
                            "#fdca26"
                          ],
                          [
                            1,
                            "#f0f921"
                          ]
                        ],
                        "type": "heatmapgl"
                      }
                    ],
                    "histogram": [
                      {
                        "marker": {
                          "pattern": {
                            "fillmode": "overlay",
                            "size": 10,
                            "solidity": 0.2
                          }
                        },
                        "type": "histogram"
                      }
                    ],
                    "histogram2d": [
                      {
                        "colorbar": {
                          "outlinewidth": 0,
                          "ticks": ""
                        },
                        "colorscale": [
                          [
                            0,
                            "#0d0887"
                          ],
                          [
                            0.1111111111111111,
                            "#46039f"
                          ],
                          [
                            0.2222222222222222,
                            "#7201a8"
                          ],
                          [
                            0.3333333333333333,
                            "#9c179e"
                          ],
                          [
                            0.4444444444444444,
                            "#bd3786"
                          ],
                          [
                            0.5555555555555556,
                            "#d8576b"
                          ],
                          [
                            0.6666666666666666,
                            "#ed7953"
                          ],
                          [
                            0.7777777777777778,
                            "#fb9f3a"
                          ],
                          [
                            0.8888888888888888,
                            "#fdca26"
                          ],
                          [
                            1,
                            "#f0f921"
                          ]
                        ],
                        "type": "histogram2d"
                      }
                    ],
                    "histogram2dcontour": [
                      {
                        "colorbar": {
                          "outlinewidth": 0,
                          "ticks": ""
                        },
                        "colorscale": [
                          [
                            0,
                            "#0d0887"
                          ],
                          [
                            0.1111111111111111,
                            "#46039f"
                          ],
                          [
                            0.2222222222222222,
                            "#7201a8"
                          ],
                          [
                            0.3333333333333333,
                            "#9c179e"
                          ],
                          [
                            0.4444444444444444,
                            "#bd3786"
                          ],
                          [
                            0.5555555555555556,
                            "#d8576b"
                          ],
                          [
                            0.6666666666666666,
                            "#ed7953"
                          ],
                          [
                            0.7777777777777778,
                            "#fb9f3a"
                          ],
                          [
                            0.8888888888888888,
                            "#fdca26"
                          ],
                          [
                            1,
                            "#f0f921"
                          ]
                        ],
                        "type": "histogram2dcontour"
                      }
                    ],
                    "mesh3d": [
                      {
                        "colorbar": {
                          "outlinewidth": 0,
                          "ticks": ""
                        },
                        "type": "mesh3d"
                      }
                    ],
                    "parcoords": [
                      {
                        "line": {
                          "colorbar": {
                            "outlinewidth": 0,
                            "ticks": ""
                          }
                        },
                        "type": "parcoords"
                      }
                    ],
                    "pie": [
                      {
                        "automargin": true,
                        "type": "pie"
                      }
                    ],
                    "scatter": [
                      {
                        "marker": {
                          "colorbar": {
                            "outlinewidth": 0,
                            "ticks": ""
                          }
                        },
                        "type": "scatter"
                      }
                    ],
                    "scatter3d": [
                      {
                        "line": {
                          "colorbar": {
                            "outlinewidth": 0,
                            "ticks": ""
                          }
                        },
                        "marker": {
                          "colorbar": {
                            "outlinewidth": 0,
                            "ticks": ""
                          }
                        },
                        "type": "scatter3d"
                      }
                    ],
                    "scattercarpet": [
                      {
                        "marker": {
                          "colorbar": {
                            "outlinewidth": 0,
                            "ticks": ""
                          }
                        },
                        "type": "scattercarpet"
                      }
                    ],
                    "scattergeo": [
                      {
                        "marker": {
                          "colorbar": {
                            "outlinewidth": 0,
                            "ticks": ""
                          }
                        },
                        "type": "scattergeo"
                      }
                    ],
                    "scattergl": [
                      {
                        "marker": {
                          "colorbar": {
                            "outlinewidth": 0,
                            "ticks": ""
                          }
                        },
                        "type": "scattergl"
                      }
                    ],
                    "scattermapbox": [
                      {
                        "marker": {
                          "colorbar": {
                            "outlinewidth": 0,
                            "ticks": ""
                          }
                        },
                        "type": "scattermapbox"
                      }
                    ],
                    "scatterpolar": [
                      {
                        "marker": {
                          "colorbar": {
                            "outlinewidth": 0,
                            "ticks": ""
                          }
                        },
                        "type": "scatterpolar"
                      }
                    ],
                    "scatterpolargl": [
                      {
                        "marker": {
                          "colorbar": {
                            "outlinewidth": 0,
                            "ticks": ""
                          }
                        },
                        "type": "scatterpolargl"
                      }
                    ],
                    "scatterternary": [
                      {
                        "marker": {
                          "colorbar": {
                            "outlinewidth": 0,
                            "ticks": ""
                          }
                        },
                        "type": "scatterternary"
                      }
                    ],
                    "surface": [
                      {
                        "colorbar": {
                          "outlinewidth": 0,
                          "ticks": ""
                        },
                        "colorscale": [
                          [
                            0,
                            "#0d0887"
                          ],
                          [
                            0.1111111111111111,
                            "#46039f"
                          ],
                          [
                            0.2222222222222222,
                            "#7201a8"
                          ],
                          [
                            0.3333333333333333,
                            "#9c179e"
                          ],
                          [
                            0.4444444444444444,
                            "#bd3786"
                          ],
                          [
                            0.5555555555555556,
                            "#d8576b"
                          ],
                          [
                            0.6666666666666666,
                            "#ed7953"
                          ],
                          [
                            0.7777777777777778,
                            "#fb9f3a"
                          ],
                          [
                            0.8888888888888888,
                            "#fdca26"
                          ],
                          [
                            1,
                            "#f0f921"
                          ]
                        ],
                        "type": "surface"
                      }
                    ],
                    "table": [
                      {
                        "cells": {
                          "fill": {
                            "color": "#EBF0F8"
                          },
                          "line": {
                            "color": "white"
                          }
                        },
                        "header": {
                          "fill": {
                            "color": "#C8D4E3"
                          },
                          "line": {
                            "color": "white"
                          }
                        },
                        "type": "table"
                      }
                    ]
                  },
                  "layout": {
                    "annotationdefaults": {
                      "arrowcolor": "#2a3f5f",
                      "arrowhead": 0,
                      "arrowwidth": 1
                    },
                    "autotypenumbers": "strict",
                    "coloraxis": {
                      "colorbar": {
                        "outlinewidth": 0,
                        "ticks": ""
                      }
                    },
                    "colorscale": {
                      "diverging": [
                        [
                          0,
                          "#8e0152"
                        ],
                        [
                          0.1,
                          "#c51b7d"
                        ],
                        [
                          0.2,
                          "#de77ae"
                        ],
                        [
                          0.3,
                          "#f1b6da"
                        ],
                        [
                          0.4,
                          "#fde0ef"
                        ],
                        [
                          0.5,
                          "#f7f7f7"
                        ],
                        [
                          0.6,
                          "#e6f5d0"
                        ],
                        [
                          0.7,
                          "#b8e186"
                        ],
                        [
                          0.8,
                          "#7fbc41"
                        ],
                        [
                          0.9,
                          "#4d9221"
                        ],
                        [
                          1,
                          "#276419"
                        ]
                      ],
                      "sequential": [
                        [
                          0,
                          "#0d0887"
                        ],
                        [
                          0.1111111111111111,
                          "#46039f"
                        ],
                        [
                          0.2222222222222222,
                          "#7201a8"
                        ],
                        [
                          0.3333333333333333,
                          "#9c179e"
                        ],
                        [
                          0.4444444444444444,
                          "#bd3786"
                        ],
                        [
                          0.5555555555555556,
                          "#d8576b"
                        ],
                        [
                          0.6666666666666666,
                          "#ed7953"
                        ],
                        [
                          0.7777777777777778,
                          "#fb9f3a"
                        ],
                        [
                          0.8888888888888888,
                          "#fdca26"
                        ],
                        [
                          1,
                          "#f0f921"
                        ]
                      ],
                      "sequentialminus": [
                        [
                          0,
                          "#0d0887"
                        ],
                        [
                          0.1111111111111111,
                          "#46039f"
                        ],
                        [
                          0.2222222222222222,
                          "#7201a8"
                        ],
                        [
                          0.3333333333333333,
                          "#9c179e"
                        ],
                        [
                          0.4444444444444444,
                          "#bd3786"
                        ],
                        [
                          0.5555555555555556,
                          "#d8576b"
                        ],
                        [
                          0.6666666666666666,
                          "#ed7953"
                        ],
                        [
                          0.7777777777777778,
                          "#fb9f3a"
                        ],
                        [
                          0.8888888888888888,
                          "#fdca26"
                        ],
                        [
                          1,
                          "#f0f921"
                        ]
                      ]
                    },
                    "colorway": [
                      "#636efa",
                      "#EF553B",
                      "#00cc96",
                      "#ab63fa",
                      "#FFA15A",
                      "#19d3f3",
                      "#FF6692",
                      "#B6E880",
                      "#FF97FF",
                      "#FECB52"
                    ],
                    "font": {
                      "color": "#2a3f5f"
                    },
                    "geo": {
                      "bgcolor": "white",
                      "lakecolor": "white",
                      "landcolor": "#E5ECF6",
                      "showlakes": true,
                      "showland": true,
                      "subunitcolor": "white"
                    },
                    "hoverlabel": {
                      "align": "left"
                    },
                    "hovermode": "closest",
                    "mapbox": {
                      "style": "light"
                    },
                    "paper_bgcolor": "white",
                    "plot_bgcolor": "#E5ECF6",
                    "polar": {
                      "angularaxis": {
                        "gridcolor": "white",
                        "linecolor": "white",
                        "ticks": ""
                      },
                      "bgcolor": "#E5ECF6",
                      "radialaxis": {
                        "gridcolor": "white",
                        "linecolor": "white",
                        "ticks": ""
                      }
                    },
                    "scene": {
                      "xaxis": {
                        "backgroundcolor": "#E5ECF6",
                        "gridcolor": "white",
                        "gridwidth": 2,
                        "linecolor": "white",
                        "showbackground": true,
                        "ticks": "",
                        "zerolinecolor": "white"
                      },
                      "yaxis": {
                        "backgroundcolor": "#E5ECF6",
                        "gridcolor": "white",
                        "gridwidth": 2,
                        "linecolor": "white",
                        "showbackground": true,
                        "ticks": "",
                        "zerolinecolor": "white"
                      },
                      "zaxis": {
                        "backgroundcolor": "#E5ECF6",
                        "gridcolor": "white",
                        "gridwidth": 2,
                        "linecolor": "white",
                        "showbackground": true,
                        "ticks": "",
                        "zerolinecolor": "white"
                      }
                    },
                    "shapedefaults": {
                      "line": {
                        "color": "#2a3f5f"
                      }
                    },
                    "ternary": {
                      "aaxis": {
                        "gridcolor": "white",
                        "linecolor": "white",
                        "ticks": ""
                      },
                      "baxis": {
                        "gridcolor": "white",
                        "linecolor": "white",
                        "ticks": ""
                      },
                      "bgcolor": "#E5ECF6",
                      "caxis": {
                        "gridcolor": "white",
                        "linecolor": "white",
                        "ticks": ""
                      }
                    },
                    "title": {
                      "x": 0.05
                    },
                    "xaxis": {
                      "automargin": true,
                      "gridcolor": "white",
                      "linecolor": "white",
                      "ticks": "",
                      "title": {
                        "standoff": 15
                      },
                      "zerolinecolor": "white",
                      "zerolinewidth": 2
                    },
                    "yaxis": {
                      "automargin": true,
                      "gridcolor": "white",
                      "linecolor": "white",
                      "ticks": "",
                      "title": {
                        "standoff": 15
                      },
                      "zerolinecolor": "white",
                      "zerolinewidth": 2
                    }
                  }
                },
                "xaxis": {
                  "anchor": "y",
                  "domain": [
                    0,
                    1
                  ],
                  "title": {
                    "text": "Age"
                  }
                },
                "yaxis": {
                  "anchor": "x",
                  "domain": [
                    0,
                    1
                  ],
                  "title": {
                    "text": "count"
                  }
                }
              }
            }
          },
          "metadata": {},
          "output_type": "display_data"
        }
      ],
      "source": [
        "px.histogram(data_frame=data, x=\"Age\", color=\"Chest pain type\")"
      ]
    },
    {
      "cell_type": "code",
      "execution_count": 12,
      "metadata": {
        "id": "ZMYDbSEX98Ju"
      },
      "outputs": [],
      "source": [
        "label_encoder = LabelEncoder()\n",
        "data['Heart Disease'] = label_encoder.fit_transform(data['Heart Disease'])"
      ]
    },
    {
      "cell_type": "code",
      "execution_count": 13,
      "metadata": {
        "colab": {
          "base_uri": "https://localhost:8080/"
        },
        "id": "L01sD_9R-RsF",
        "outputId": "91970aab-26f6-4ae0-d470-7bcd5f49e97b"
      },
      "outputs": [
        {
          "name": "stdout",
          "output_type": "stream",
          "text": [
            "0: Absence, 1: Presence\n"
          ]
        },
        {
          "data": {
            "text/plain": [
              "0    150\n",
              "1    120\n",
              "Name: Heart Disease, dtype: int64"
            ]
          },
          "execution_count": 13,
          "metadata": {},
          "output_type": "execute_result"
        }
      ],
      "source": [
        "print(\"0: Absence, 1: Presence\")\n",
        "data['Heart Disease'].value_counts()"
      ]
    },
    {
      "cell_type": "code",
      "execution_count": 6,
      "metadata": {
        "id": "tarAg3DA6FGO"
      },
      "outputs": [],
      "source": [
        "# split data into X and y\n",
        "X = data.drop(['Heart Disease'], axis=1)\n",
        "y = data['Heart Disease']"
      ]
    },
    {
      "cell_type": "code",
      "execution_count": 7,
      "metadata": {
        "id": "FbEbVnT46bls"
      },
      "outputs": [],
      "source": [
        "# split data into train test split\n",
        "X_train,X_test,y_train,y_test = train_test_split(X,y,test_size=0.2,random_state=42)"
      ]
    },
    {
      "cell_type": "code",
      "execution_count": 8,
      "metadata": {
        "id": "bVH9nt3k7oKK"
      },
      "outputs": [],
      "source": [
        "scaler = StandardScaler()\n",
        "X_train = scaler.fit_transform(X_train)\n",
        "X_test = scaler.transform(X_test)"
      ]
    },
    {
      "cell_type": "code",
      "execution_count": 9,
      "metadata": {},
      "outputs": [],
      "source": [
        "pickle.dump(scaler,open(\"scaling.pkl\",\"wb\"))"
      ]
    },
    {
      "cell_type": "code",
      "execution_count": null,
      "metadata": {},
      "outputs": [],
      "source": []
    },
    {
      "cell_type": "code",
      "execution_count": 23,
      "metadata": {
        "id": "JhGlmaji8d3P"
      },
      "outputs": [],
      "source": [
        "models = {\n",
        "    'Random Forest': RandomForestClassifier(random_state=42),\n",
        "    'Gradient Boosting': GradientBoostingClassifier(random_state=42),\n",
        "    #'Support Vector Machine': SVC(random_state=42),\n",
        "    'Logistic Regression': LogisticRegression(random_state=42),\n",
        "    'K-Nearest Neighbors': KNeighborsClassifier(),\n",
        "    'Decision Tree': DecisionTreeClassifier(random_state=42),\n",
        "    'Ada Boost': AdaBoostClassifier(random_state=42),\n",
        "    'XG Boost': XGBClassifier(random_state=42),\n",
        "    'Naive Bayes': GaussianNB()\n",
        "}"
      ]
    },
    {
      "cell_type": "code",
      "execution_count": 23,
      "metadata": {
        "colab": {
          "base_uri": "https://localhost:8080/"
        },
        "id": "beY58N4T8eDx",
        "outputId": "b5734603-8e39-4f9e-8a5f-f5455acee333"
      },
      "outputs": [
        {
          "name": "stdout",
          "output_type": "stream",
          "text": [
            "BestModel: LogisticRegression(random_state=42)\n",
            "Model: Random Forest\n",
            "Accuracy: 0.7592592592592593\n",
            "Confusion Matrix:\n",
            "[[28  5]\n",
            " [ 8 13]]\n",
            "Classification Report:\n",
            "              precision    recall  f1-score   support\n",
            "\n",
            "           0       0.78      0.85      0.81        33\n",
            "           1       0.72      0.62      0.67        21\n",
            "\n",
            "    accuracy                           0.76        54\n",
            "   macro avg       0.75      0.73      0.74        54\n",
            "weighted avg       0.76      0.76      0.76        54\n",
            "\n",
            "\n",
            "============================================================\n",
            "\n",
            "Model: Gradient Boosting\n",
            "Accuracy: 0.7592592592592593\n",
            "Confusion Matrix:\n",
            "[[28  5]\n",
            " [ 8 13]]\n",
            "Classification Report:\n",
            "              precision    recall  f1-score   support\n",
            "\n",
            "           0       0.78      0.85      0.81        33\n",
            "           1       0.72      0.62      0.67        21\n",
            "\n",
            "    accuracy                           0.76        54\n",
            "   macro avg       0.75      0.73      0.74        54\n",
            "weighted avg       0.76      0.76      0.76        54\n",
            "\n",
            "\n",
            "============================================================\n",
            "\n",
            "Model: Support Vector Machine\n",
            "Accuracy: 0.8888888888888888\n",
            "Confusion Matrix:\n",
            "[[31  2]\n",
            " [ 4 17]]\n",
            "Classification Report:\n",
            "              precision    recall  f1-score   support\n",
            "\n",
            "           0       0.89      0.94      0.91        33\n",
            "           1       0.89      0.81      0.85        21\n",
            "\n",
            "    accuracy                           0.89        54\n",
            "   macro avg       0.89      0.87      0.88        54\n",
            "weighted avg       0.89      0.89      0.89        54\n",
            "\n",
            "\n",
            "============================================================\n",
            "\n",
            "Model: Logistic Regression\n",
            "Accuracy: 0.9074074074074074\n",
            "Confusion Matrix:\n",
            "[[31  2]\n",
            " [ 3 18]]\n",
            "Classification Report:\n",
            "              precision    recall  f1-score   support\n",
            "\n",
            "           0       0.91      0.94      0.93        33\n",
            "           1       0.90      0.86      0.88        21\n",
            "\n",
            "    accuracy                           0.91        54\n",
            "   macro avg       0.91      0.90      0.90        54\n",
            "weighted avg       0.91      0.91      0.91        54\n",
            "\n",
            "\n",
            "============================================================\n",
            "\n",
            "Model: K-Nearest Neighbors\n",
            "Accuracy: 0.8148148148148148\n",
            "Confusion Matrix:\n",
            "[[30  3]\n",
            " [ 7 14]]\n",
            "Classification Report:\n",
            "              precision    recall  f1-score   support\n",
            "\n",
            "           0       0.81      0.91      0.86        33\n",
            "           1       0.82      0.67      0.74        21\n",
            "\n",
            "    accuracy                           0.81        54\n",
            "   macro avg       0.82      0.79      0.80        54\n",
            "weighted avg       0.82      0.81      0.81        54\n",
            "\n",
            "\n",
            "============================================================\n",
            "\n",
            "Model: Decision Tree\n",
            "Accuracy: 0.6851851851851852\n",
            "Confusion Matrix:\n",
            "[[22 11]\n",
            " [ 6 15]]\n",
            "Classification Report:\n",
            "              precision    recall  f1-score   support\n",
            "\n",
            "           0       0.79      0.67      0.72        33\n",
            "           1       0.58      0.71      0.64        21\n",
            "\n",
            "    accuracy                           0.69        54\n",
            "   macro avg       0.68      0.69      0.68        54\n",
            "weighted avg       0.70      0.69      0.69        54\n",
            "\n",
            "\n",
            "============================================================\n",
            "\n",
            "Model: Ada Boost\n",
            "Accuracy: 0.8888888888888888\n",
            "Confusion Matrix:\n",
            "[[32  1]\n",
            " [ 5 16]]\n",
            "Classification Report:\n",
            "              precision    recall  f1-score   support\n",
            "\n",
            "           0       0.86      0.97      0.91        33\n",
            "           1       0.94      0.76      0.84        21\n",
            "\n",
            "    accuracy                           0.89        54\n",
            "   macro avg       0.90      0.87      0.88        54\n",
            "weighted avg       0.89      0.89      0.89        54\n",
            "\n",
            "\n",
            "============================================================\n",
            "\n",
            "Model: XG Boost\n",
            "Accuracy: 0.8148148148148148\n",
            "Confusion Matrix:\n",
            "[[29  4]\n",
            " [ 6 15]]\n",
            "Classification Report:\n",
            "              precision    recall  f1-score   support\n",
            "\n",
            "           0       0.83      0.88      0.85        33\n",
            "           1       0.79      0.71      0.75        21\n",
            "\n",
            "    accuracy                           0.81        54\n",
            "   macro avg       0.81      0.80      0.80        54\n",
            "weighted avg       0.81      0.81      0.81        54\n",
            "\n",
            "\n",
            "============================================================\n",
            "\n",
            "Model: Naive Bayes\n",
            "Accuracy: 0.9074074074074074\n",
            "Confusion Matrix:\n",
            "[[32  1]\n",
            " [ 4 17]]\n",
            "Classification Report:\n",
            "              precision    recall  f1-score   support\n",
            "\n",
            "           0       0.89      0.97      0.93        33\n",
            "           1       0.94      0.81      0.87        21\n",
            "\n",
            "    accuracy                           0.91        54\n",
            "   macro avg       0.92      0.89      0.90        54\n",
            "weighted avg       0.91      0.91      0.91        54\n",
            "\n",
            "\n",
            "============================================================\n",
            "\n"
          ]
        }
      ],
      "source": [
        "results = {}\n",
        "best_model = None\n",
        "best_accuracy = 0.0\n",
        "for model_name, model in models.items():\n",
        "    # Train the model\n",
        "    model.fit(X_train, y_train)\n",
        "\n",
        "    # Make predictions\n",
        "    y_pred = model.predict(X_test)\n",
        "\n",
        "    # Evaluate the model\n",
        "    accuracy = accuracy_score(y_test, y_pred)\n",
        "    cm = confusion_matrix(y_test, y_pred)\n",
        "    cr = classification_report(y_test, y_pred)\n",
        "\n",
        "    # Store the results\n",
        "    results[model_name] = {\n",
        "        'Accuracy': accuracy,\n",
        "        'Confusion Matrix': cm,\n",
        "        'Classification Report': cr\n",
        "    }\n",
        "    # Check if the current model has the best accuracy\n",
        "    if accuracy > best_accuracy:\n",
        "        best_accuracy = accuracy\n",
        "        best_model = model\n",
        "# Retrieve the best model\n",
        "print(\"BestModel:\", best_model)\n",
        "\n",
        "# Print the results\n",
        "for model_name, metrics in results.items():\n",
        "    print(f\"Model: {model_name}\")\n",
        "    print(f\"Accuracy: {metrics['Accuracy']}\")\n",
        "    print(\"Confusion Matrix:\")\n",
        "    print(metrics['Confusion Matrix'])\n",
        "    print(\"Classification Report:\")\n",
        "    print(metrics['Classification Report'])\n",
        "    print(\"\\n\" + \"=\"*60 + \"\\n\")"
      ]
    },
    {
      "cell_type": "code",
      "execution_count": 24,
      "metadata": {},
      "outputs": [
        {
          "data": {
            "text/plain": [
              "VotingClassifier(estimators=[('Random Forest',\n",
              "                              RandomForestClassifier(random_state=42)),\n",
              "                             ('Gradient Boosting',\n",
              "                              GradientBoostingClassifier(random_state=42)),\n",
              "                             ('Logistic Regression',\n",
              "                              LogisticRegression(random_state=42)),\n",
              "                             ('K-Nearest Neighbors', KNeighborsClassifier()),\n",
              "                             ('Decision Tree',\n",
              "                              DecisionTreeClassifier(random_state=42)),\n",
              "                             ('Ada Boost', AdaBoostClassifier(random...\n",
              "                                            interaction_constraints=None,\n",
              "                                            learning_rate=None, max_bin=None,\n",
              "                                            max_cat_threshold=None,\n",
              "                                            max_cat_to_onehot=None,\n",
              "                                            max_delta_step=None, max_depth=None,\n",
              "                                            max_leaves=None,\n",
              "                                            min_child_weight=None, missing=nan,\n",
              "                                            monotone_constraints=None,\n",
              "                                            multi_strategy=None,\n",
              "                                            n_estimators=None, n_jobs=None,\n",
              "                                            num_parallel_tree=None,\n",
              "                                            random_state=42, ...)),\n",
              "                             ('Naive Bayes', GaussianNB())],\n",
              "                 voting='soft')"
            ]
          },
          "execution_count": 24,
          "metadata": {},
          "output_type": "execute_result"
        }
      ],
      "source": [
        "ensemble_model = VotingClassifier(estimators=[(name, model) for name, model in models.items()], voting='soft')\n",
        "ensemble_model.fit(X_test, y_test)"
      ]
    },
    {
      "cell_type": "code",
      "execution_count": 26,
      "metadata": {},
      "outputs": [
        {
          "data": {
            "text/plain": [
              "1.0"
            ]
          },
          "execution_count": 26,
          "metadata": {},
          "output_type": "execute_result"
        }
      ],
      "source": [
        "accuracy_score(y_test, ensemble_model.predict(X_test))"
      ]
    },
    {
      "cell_type": "code",
      "execution_count": 28,
      "metadata": {},
      "outputs": [
        {
          "data": {
            "text/plain": [
              "array([[33,  0],\n",
              "       [ 0, 21]], dtype=int64)"
            ]
          },
          "execution_count": 28,
          "metadata": {},
          "output_type": "execute_result"
        }
      ],
      "source": [
        "confusion_matrix(y_test, ensemble_model.predict(X_test))"
      ]
    },
    {
      "cell_type": "code",
      "execution_count": 30,
      "metadata": {},
      "outputs": [
        {
          "name": "stdout",
          "output_type": "stream",
          "text": [
            "              precision    recall  f1-score   support\n",
            "\n",
            "           0       1.00      1.00      1.00        33\n",
            "           1       1.00      1.00      1.00        21\n",
            "\n",
            "    accuracy                           1.00        54\n",
            "   macro avg       1.00      1.00      1.00        54\n",
            "weighted avg       1.00      1.00      1.00        54\n",
            "\n"
          ]
        }
      ],
      "source": [
        "print(classification_report(y_test,ensemble_model.predict(X_test)))"
      ]
    },
    {
      "cell_type": "code",
      "execution_count": 33,
      "metadata": {},
      "outputs": [
        {
          "name": "stdout",
          "output_type": "stream",
          "text": [
            "ROC AUC: 1.0000\n"
          ]
        }
      ],
      "source": [
        "print(f\"ROC AUC: {roc_auc_score(y_test, ensemble_model.predict_proba(X_test)[:,1]):.4f}\")"
      ]
    },
    {
      "cell_type": "code",
      "execution_count": 24,
      "metadata": {},
      "outputs": [
        {
          "data": {
            "text/plain": [
              "0.9074074074074074"
            ]
          },
          "execution_count": 24,
          "metadata": {},
          "output_type": "execute_result"
        }
      ],
      "source": [
        "nb_model = GaussianNB()\n",
        "nb_model.fit(X_train, y_train)\n",
        "nb_y_pred = nb_model.predict(X_test)\n",
        "accuracy_score(y_test, nb_y_pred)"
      ]
    },
    {
      "cell_type": "code",
      "execution_count": 34,
      "metadata": {
        "id": "MeuB-AQI9Fb5"
      },
      "outputs": [],
      "source": [
        "#inserting the model into the pickle file\n",
        "pickle.dump(ensemble_model, open('heart_disease_ensemble_model.pkl', 'wb'))"
      ]
    },
    {
      "cell_type": "code",
      "execution_count": 35,
      "metadata": {},
      "outputs": [],
      "source": [
        "with open('heart_disease_ensemble_model.pkl', 'rb') as file:\n",
        "    model = pickle.load(file)"
      ]
    },
    {
      "cell_type": "code",
      "execution_count": 36,
      "metadata": {
        "id": "J9kKhhYsBVb9"
      },
      "outputs": [
        {
          "name": "stdout",
          "output_type": "stream",
          "text": [
            "Enter the following details:\n",
            "The model predicts that the person has heart disease\n"
          ]
        }
      ],
      "source": [
        "\n",
        "# Function to get user input and convert to the appropriate format\n",
        "def get_user_data():\n",
        "    print(\"Enter the following details:\")\n",
        "    \n",
        "    age = int(input(\"Age: \"))\n",
        "    sex = int(input(\"Sex (Male=1, Female=0): \"))\n",
        "    cp = int(input(\"Chest pain type (1=typical angina, 2=atypical angina, 3=non-anginal pain, 4=asymptomatic): \"))\n",
        "    bp = float(input(\"Resting blood pressure: \"))\n",
        "    cholesterol = float(input(\"Cholesterol: \"))\n",
        "    fbs = int(input(\"Fasting blood sugar > 120 mg/dl (True=1, False=0): \"))\n",
        "    ekg_results = int(input(\"Resting electrocardiographic results (0=normal, 1=lv hypertrophy, 2=st-t abnormality): \"))\n",
        "    max_hr = float(input(\"Maximum heart rate achieved: \"))\n",
        "    exercise_angina = int(input(\"Exercise induced angina (True=1, False=0): \"))\n",
        "    st_depression = float(input(\"ST depression induced by exercise relative to rest: \"))\n",
        "    slope_of_st = int(input(\"Slope of the peak exercise ST segment (0=upsloping, 1=flat, 2=downsloping): \"))\n",
        "    num_vessels_fluoro = float(input(\"Number of major vessels (0-3) colored by fluoroscopy: \"))\n",
        "    thallium = int(input(\"Thalassemia (3=normal, 6=fixed defect, 7=reversable defect): \"))\n",
        "    \n",
        "    # Arrange the data as per the model's expected format\n",
        "    person_data_values = [\n",
        "        age, sex, cp, bp, cholesterol, fbs, ekg_results, max_hr,\n",
        "        exercise_angina, st_depression, slope_of_st, num_vessels_fluoro, thallium\n",
        "    ]\n",
        "\n",
        "    return np.array(person_data_values).reshape(1, -1)\n",
        "\n",
        "# Get user data\n",
        "person_data_array = get_user_data()\n",
        "\n",
        "# Predict using the model\n",
        "prediction = model.predict(person_data_array)[0]\n",
        "\n",
        "# Interpret the prediction\n",
        "if prediction == 0:\n",
        "    print(\"The model predicts that the person does not have heart disease.\")\n",
        "else:\n",
        "    print(f\"The model predicts that the person has heart disease\")\n"
      ]
    },
    {
      "cell_type": "code",
      "execution_count": 38,
      "metadata": {},
      "outputs": [
        {
          "data": {
            "text/plain": [
              "array([1, 1, 0, 0, 0, 1, 0, 0, 0, 0, 0, 0, 1, 1, 0, 0, 1, 1, 1, 0, 1, 0,\n",
              "       1, 0, 0, 1, 0, 1, 0, 0, 0, 0, 1, 0, 1, 1, 1, 1, 1, 0, 0, 0, 0, 0,\n",
              "       0, 0, 0, 1, 1, 0, 0, 0, 0, 1])"
            ]
          },
          "execution_count": 38,
          "metadata": {},
          "output_type": "execute_result"
        }
      ],
      "source": [
        "model.predict(X_test)"
      ]
    },
    {
      "cell_type": "code",
      "execution_count": 28,
      "metadata": {},
      "outputs": [
        {
          "data": {
            "text/plain": [
              "array([1, 0, 0, 0, 0, 1, 1, 0, 0, 0, 0, 0, 1, 1, 0, 0, 1, 0, 1, 0, 1, 0,\n",
              "       1, 0, 0, 1, 0, 1, 0, 0, 0, 0, 1, 0, 0, 1, 1, 0, 1, 0, 0, 0, 0, 0,\n",
              "       0, 0, 0, 1, 1, 0, 0, 0, 0, 1])"
            ]
          },
          "execution_count": 28,
          "metadata": {},
          "output_type": "execute_result"
        }
      ],
      "source": [
        "model.predict(X_test)"
      ]
    },
    {
      "cell_type": "markdown",
      "metadata": {},
      "source": []
    },
    {
      "cell_type": "code",
      "execution_count": 35,
      "metadata": {},
      "outputs": [
        {
          "data": {
            "text/plain": [
              "Index(['Age', 'Sex', 'Chest pain type', 'BP', 'Cholesterol', 'FBS over 120',\n",
              "       'EKG results', 'Max HR', 'Exercise angina', 'ST depression',\n",
              "       'Slope of ST', 'Number of vessels fluro', 'Thallium', 'Heart Disease'],\n",
              "      dtype='object')"
            ]
          },
          "execution_count": 35,
          "metadata": {},
          "output_type": "execute_result"
        }
      ],
      "source": [
        "data.columns"
      ]
    },
    {
      "cell_type": "code",
      "execution_count": 28,
      "metadata": {},
      "outputs": [
        {
          "data": {
            "text/plain": [
              "120    34\n",
              "130    31\n",
              "140    30\n",
              "110    17\n",
              "150    17\n",
              "160    11\n",
              "125    10\n",
              "138     9\n",
              "112     9\n",
              "128     9\n",
              "118     7\n",
              "132     6\n",
              "135     6\n",
              "108     6\n",
              "124     5\n",
              "145     5\n",
              "134     4\n",
              "100     4\n",
              "152     4\n",
              "180     3\n",
              "136     3\n",
              "115     3\n",
              "105     3\n",
              "126     3\n",
              "122     3\n",
              "142     3\n",
              "94      2\n",
              "102     2\n",
              "178     2\n",
              "170     2\n",
              "104     1\n",
              "200     1\n",
              "155     1\n",
              "101     1\n",
              "129     1\n",
              "123     1\n",
              "192     1\n",
              "117     1\n",
              "158     1\n",
              "146     1\n",
              "156     1\n",
              "165     1\n",
              "174     1\n",
              "144     1\n",
              "106     1\n",
              "148     1\n",
              "172     1\n",
              "Name: BP, dtype: int64"
            ]
          },
          "execution_count": 28,
          "metadata": {},
          "output_type": "execute_result"
        }
      ],
      "source": [
        "data['BP'].value_counts()"
      ]
    },
    {
      "cell_type": "code",
      "execution_count": 40,
      "metadata": {},
      "outputs": [
        {
          "data": {
            "text/plain": [
              "<AxesSubplot:>"
            ]
          },
          "execution_count": 40,
          "metadata": {},
          "output_type": "execute_result"
        },
        {
          "data": {
            "image/png": "[encoded data removed]",
            "text/plain": [
              "<Figure size 1440x1440 with 1 Axes>"
            ]
          },
          "metadata": {
            "needs_background": "light"
          },
          "output_type": "display_data"
        }
      ],
      "source": [
        "plt.figure(figsize=(20,20))\n",
        "sns.boxplot(data=data['BP'])"
      ]
    },
    {
      "cell_type": "code",
      "execution_count": null,
      "metadata": {},
      "outputs": [],
      "source": []
    }
  ],
  "metadata": {
    "colab": {
      "provenance": []
    },
    "kernelspec": {
      "display_name": "Python 3",
      "name": "python3"
    },
    "language_info": {
      "codemirror_mode": {
        "name": "ipython",
        "version": 3
      },
      "file_extension": ".py",
      "mimetype": "text/x-python",
      "name": "python",
      "nbconvert_exporter": "python",
      "pygments_lexer": "ipython3",
      "version": "3.12.0"
    }
  },
  "nbformat": 4,
  "nbformat_minor": 0
}
